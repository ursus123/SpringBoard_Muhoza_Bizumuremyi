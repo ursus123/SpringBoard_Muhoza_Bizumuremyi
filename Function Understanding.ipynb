{
 "cells": [
  {
   "cell_type": "code",
   "execution_count": 1,
   "metadata": {},
   "outputs": [],
   "source": [
    "import numpy as np\n",
    "import pandas as pd"
   ]
  },
  {
   "cell_type": "code",
   "execution_count": 2,
   "metadata": {},
   "outputs": [
    {
     "data": {
      "text/plain": [
       "array([[0.73624113],\n",
       "       [2.14966451],\n",
       "       [6.29358036],\n",
       "       [4.9135792 ],\n",
       "       [5.32267843],\n",
       "       [2.77386016],\n",
       "       [7.91851176],\n",
       "       [8.42806907],\n",
       "       [8.81922104],\n",
       "       [8.77585393]])"
      ]
     },
     "execution_count": 2,
     "metadata": {},
     "output_type": "execute_result"
    }
   ],
   "source": [
    "df=np.random.random(10)*10\n",
    "df=np.reshape(df,(-1,1))\n",
    "df.shape\n",
    "df"
   ]
  },
  {
   "cell_type": "code",
   "execution_count": 5,
   "metadata": {},
   "outputs": [],
   "source": [
    "def make_df(df,steps):\n",
    "    X=[]\n",
    "    Y=[]\n",
    "    for i in range(len(df)):\n",
    "        a=df[i]\n",
    "        X.append(a)\n",
    "    for i in range(len(df)-steps):\n",
    "        b=df[i+steps,0]\n",
    "        Y.append(b)\n",
    "    return np.array(X), np.array(Y)"
   ]
  },
  {
   "cell_type": "code",
   "execution_count": 6,
   "metadata": {},
   "outputs": [],
   "source": [
    "steps=3\n",
    "X,Y= make_df(df,steps)"
   ]
  },
  {
   "cell_type": "code",
   "execution_count": 7,
   "metadata": {},
   "outputs": [
    {
     "data": {
      "text/plain": [
       "array([[0.73624113],\n",
       "       [2.14966451],\n",
       "       [6.29358036],\n",
       "       [4.9135792 ],\n",
       "       [5.32267843],\n",
       "       [2.77386016],\n",
       "       [7.91851176],\n",
       "       [8.42806907],\n",
       "       [8.81922104],\n",
       "       [8.77585393]])"
      ]
     },
     "execution_count": 7,
     "metadata": {},
     "output_type": "execute_result"
    }
   ],
   "source": [
    "X"
   ]
  },
  {
   "cell_type": "code",
   "execution_count": 8,
   "metadata": {},
   "outputs": [
    {
     "data": {
      "text/plain": [
       "array([4.9135792 , 5.32267843, 2.77386016, 7.91851176, 8.42806907,\n",
       "       8.81922104, 8.77585393])"
      ]
     },
     "execution_count": 8,
     "metadata": {},
     "output_type": "execute_result"
    }
   ],
   "source": [
    "Y"
   ]
  },
  {
   "cell_type": "code",
   "execution_count": 9,
   "metadata": {},
   "outputs": [
    {
     "data": {
      "text/plain": [
       "10"
      ]
     },
     "execution_count": 9,
     "metadata": {},
     "output_type": "execute_result"
    }
   ],
   "source": [
    "len(X)"
   ]
  },
  {
   "cell_type": "code",
   "execution_count": null,
   "metadata": {},
   "outputs": [],
   "source": []
  }
 ],
 "metadata": {
  "kernelspec": {
   "display_name": "Python 3",
   "language": "python",
   "name": "python3"
  },
  "language_info": {
   "codemirror_mode": {
    "name": "ipython",
    "version": 3
   },
   "file_extension": ".py",
   "mimetype": "text/x-python",
   "name": "python",
   "nbconvert_exporter": "python",
   "pygments_lexer": "ipython3",
   "version": "3.8.3"
  }
 },
 "nbformat": 4,
 "nbformat_minor": 4
}
